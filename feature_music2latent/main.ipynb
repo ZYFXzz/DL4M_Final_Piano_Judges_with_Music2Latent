{
 "cells": [
  {
   "cell_type": "code",
   "execution_count": 1,
   "metadata": {},
   "outputs": [
    {
     "name": "stderr",
     "output_type": "stream",
     "text": [
      "c:\\ProgramData\\anaconda3\\envs\\piano_judges_latent\\lib\\site-packages\\tqdm\\auto.py:21: TqdmWarning: IProgress not found. Please update jupyter and ipywidgets. See https://ipywidgets.readthedocs.io/en/stable/user_install.html\n",
      "  from .autonotebook import tqdm as notebook_tqdm\n"
     ]
    }
   ],
   "source": [
    "import os\n",
    "import pytorch_lightning as pl\n",
    "from pytorch_lightning.callbacks import ModelCheckpoint, EarlyStopping\n",
    "from pytorch_lightning.loggers import TensorBoardLogger\n",
    "import torch.nn as nn\n",
    "import torch.nn.functional as F\n",
    "import torch\n",
    "import torchmetrics\n",
    "import matplotlib.pyplot as plt\n",
    "import numpy as np\n",
    "from sklearn.metrics import classification_report, average_precision_score\n",
    "\n",
    "import utils as u\n",
    "%load_ext autoreload\n",
    "%autoreload 2"
   ]
  },
  {
   "cell_type": "code",
   "execution_count": 2,
   "metadata": {},
   "outputs": [],
   "source": [
    "technique_dir = \"C:/Dataset/techniques\""
   ]
  },
  {
   "cell_type": "code",
   "execution_count": 3,
   "metadata": {},
   "outputs": [],
   "source": [
    "# dataloader = u.TechniqueDataloader(\n",
    "#     mode=\"test\", split_ratio=0.8, rs=42, label=\"multi\", technique_dir=technique_dir\n",
    "# )"
   ]
  },
  {
   "cell_type": "markdown",
   "metadata": {},
   "source": [
    "switch in between train and test mode for loading train and test part of the data.  \n",
    "if train -> 177/222 tracks.  \n",
    "if test -> 45/222 tracks.  \n",
    "222 tracks in total.  \n"
   ]
  },
  {
   "cell_type": "code",
   "execution_count": 4,
   "metadata": {},
   "outputs": [],
   "source": [
    "# print(len(dataloader))\n",
    "# for idx in range(3):\n",
    "#     pair = dataloader[idx]\n",
    "#     print(pair)\n",
    "#     print(pair[\"audio_path\"])\n",
    "#     # print(type(pair))\n",
    "\n",
    "#     audio_path = pair[\"audio_path\"]"
   ]
  },
  {
   "cell_type": "code",
   "execution_count": 5,
   "metadata": {},
   "outputs": [],
   "source": [
    "# feature_matrix, label_array = u.get_features_and_labels(dataloader)"
   ]
  },
  {
   "cell_type": "code",
   "execution_count": 6,
   "metadata": {},
   "outputs": [],
   "source": [
    "# print(feature_matrix)\n",
    "# print(feature_matrix.shape)"
   ]
  },
  {
   "cell_type": "code",
   "execution_count": 7,
   "metadata": {},
   "outputs": [],
   "source": [
    "# print(label_array)\n",
    "# print(label_array.shape)"
   ]
  },
  {
   "cell_type": "code",
   "execution_count": 8,
   "metadata": {},
   "outputs": [],
   "source": [
    "# import torch\n",
    "\n",
    "# # Create a tensor\n",
    "# tensor = test_label\n",
    "\n",
    "# # Debug info\n",
    "# print(\"Tensor data:\", tensor)\n",
    "# print(\"Tensor shape:\", tensor.shape)\n",
    "# print(\"Data type:\", tensor.dtype)\n",
    "# print(\"Device:\", tensor.device)\n",
    "# print(\"Requires Grad:\", tensor.requires_grad)"
   ]
  },
  {
   "cell_type": "code",
   "execution_count": 9,
   "metadata": {},
   "outputs": [
    {
     "name": "stdout",
     "output_type": "stream",
     "text": [
      "Train data shape: torch.Size([177, 8192])\n",
      "Train label shape: torch.Size([177, 7])\n",
      "Test data shape: torch.Size([45, 8192])\n",
      "Test label shape: torch.Size([45, 7])\n",
      "Using device: cuda\n",
      "Training set: torch.Size([141, 8192]), torch.Size([141, 7])\n",
      "Validation set: torch.Size([36, 8192]), torch.Size([36, 7])\n"
     ]
    },
    {
     "name": "stderr",
     "output_type": "stream",
     "text": [
      "c:\\Repository\\DL4M_Final_Piano_Judges_with_Music2Latent\\feature_music2latent\\utils.py:403: FutureWarning: You are using `torch.load` with `weights_only=False` (the current default value), which uses the default pickle module implicitly. It is possible to construct malicious pickle data which will execute arbitrary code during unpickling (See https://github.com/pytorch/pytorch/blob/main/SECURITY.md#untrusted-models for more details). In a future release, the default value for `weights_only` will be flipped to `True`. This limits the functions that could be executed during unpickling. Arbitrary objects will no longer be allowed to be loaded via this mode unless they are explicitly allowlisted by the user via `torch.serialization.add_safe_globals`. We recommend you start setting `weights_only=True` for any use case where you don't have full control of the loaded file. Please open an issue on GitHub for any issues related to this experimental feature.\n",
      "  features = torch.load(os.path.join(folder_name, f\"{split_name}_features.pt\"))\n",
      "c:\\Repository\\DL4M_Final_Piano_Judges_with_Music2Latent\\feature_music2latent\\utils.py:404: FutureWarning: You are using `torch.load` with `weights_only=False` (the current default value), which uses the default pickle module implicitly. It is possible to construct malicious pickle data which will execute arbitrary code during unpickling (See https://github.com/pytorch/pytorch/blob/main/SECURITY.md#untrusted-models for more details). In a future release, the default value for `weights_only` will be flipped to `True`. This limits the functions that could be executed during unpickling. Arbitrary objects will no longer be allowed to be loaded via this mode unless they are explicitly allowlisted by the user via `torch.serialization.add_safe_globals`. We recommend you start setting `weights_only=True` for any use case where you don't have full control of the loaded file. Please open an issue on GitHub for any issues related to this experimental feature.\n",
      "  labels = torch.load(os.path.join(folder_name, f\"{split_name}_labels.pt\"))\n"
     ]
    }
   ],
   "source": [
    "train_data, train_label = u.load_features_and_labels(\"train\")\n",
    "test_data, test_label = u.load_features_and_labels(\"test\")\n",
    "print(f\"Train data shape: {train_data.shape}\")\n",
    "print(f\"Train label shape: {train_label.shape}\")\n",
    "print(f\"Test data shape: {test_data.shape}\")\n",
    "print(f\"Test label shape: {test_label.shape}\")\n",
    "import torch\n",
    "\n",
    "device = torch.device(\"cuda\" if torch.cuda.is_available() else \"cpu\")\n",
    "print(f\"Using device: {device}\")\n",
    "\n",
    "# Split training data into train and validation\n",
    "from sklearn.model_selection import train_test_split\n",
    "\n",
    "train_features, val_features, train_labels, val_labels = train_test_split(\n",
    "    train_data, train_label, test_size=0.2, random_state=42\n",
    ")\n",
    "print(f\"Training set: {train_features.shape}, {train_labels.shape}\")\n",
    "print(f\"Validation set: {val_features.shape}, {val_labels.shape}\")\n",
    "# Create DataLoaders\n",
    "batch_size = 32\n",
    "train_loader = u.create_dataloader(train_features, train_labels, batch_size=batch_size)\n",
    "val_loader = u.create_dataloader(val_features, val_labels, batch_size=batch_size)\n",
    "test_loader = u.create_dataloader(test_data, test_label, batch_size=batch_size)\n",
    "\n",
    "# Initialize the model\n",
    "input_dim = train_data.shape[1]  # 8192 in your case\n",
    "num_classes = train_label.shape[1]  # 7 in your case"
   ]
  },
  {
   "cell_type": "code",
   "execution_count": 10,
   "metadata": {},
   "outputs": [
    {
     "name": "stdout",
     "output_type": "stream",
     "text": [
      "Batch 0:\n",
      "Inputs shape: torch.Size([32, 8192])\n",
      "tensor([-1.6510, -1.0736,  0.4936,  ..., -1.3687, -1.0398, -2.5888],\n",
      "       device='cuda:0')\n",
      "Inputs data type: torch.float32\n",
      "Labels shape: torch.Size([32, 7])\n",
      "tensor([0, 0, 0, 0, 0, 0, 1])\n",
      "Labels data type: torch.int64\n"
     ]
    }
   ],
   "source": [
    "import torch\n",
    "\n",
    "# Assume data_loader is your test DataLoader\n",
    "for batch_idx, (inputs, labels) in enumerate(val_loader):\n",
    "    print(f\"Batch {batch_idx}:\")\n",
    "    print(\"Inputs shape:\", inputs.shape)\n",
    "    i = inputs[0]\n",
    "    print(i)\n",
    "    print(\"Inputs data type:\", inputs.dtype)\n",
    "    print(\"Labels shape:\", labels.shape)\n",
    "    t = labels[0]\n",
    "    print(t)\n",
    "    print(\"Labels data type:\", labels.dtype)\n",
    "\n",
    "    # If you want to access the first batch only, break after the first iteration\n",
    "    break"
   ]
  },
  {
   "cell_type": "code",
   "execution_count": 11,
   "metadata": {},
   "outputs": [],
   "source": [
    "# Initialize the model with hyperparameters\n",
    "model = u.TechniqueClassifier(\n",
    "    input_dim=input_dim,  # Already defined in your code (8192)\n",
    "    num_classes=num_classes,  # Already defined in your code (7)\n",
    "    learning_rate=1e-3,  # You can adjust this\n",
    ")\n",
    "\n",
    "# Set up callbacks\n",
    "checkpoint_callback = ModelCheckpoint(\n",
    "    monitor=\"val_loss\",\n",
    "    dirpath=\"checkpoints/\",\n",
    "    filename=\"technique-{epoch:02d}-{val_loss:.2f}\",\n",
    "    save_top_k=3,\n",
    "    mode=\"min\",\n",
    ")\n",
    "\n",
    "early_stop_callback = EarlyStopping(\n",
    "    monitor=\"val_loss\", patience=20, verbose=True, mode=\"min\"\n",
    ")\n",
    "\n",
    "\n",
    "# Set up logger\n",
    "logger = TensorBoardLogger(\"tb_logs\", name=\"technique_classifier\")"
   ]
  },
  {
   "cell_type": "code",
   "execution_count": 12,
   "metadata": {},
   "outputs": [
    {
     "name": "stderr",
     "output_type": "stream",
     "text": [
      "GPU available: True (cuda), used: True\n",
      "TPU available: False, using: 0 TPU cores\n",
      "HPU available: False, using: 0 HPUs\n",
      "You are using a CUDA device ('NVIDIA GeForce RTX 4060 Ti') that has Tensor Cores. To properly utilize them, you should set `torch.set_float32_matmul_precision('medium' | 'high')` which will trade-off precision for performance. For more details, read https://pytorch.org/docs/stable/generated/torch.set_float32_matmul_precision.html#torch.set_float32_matmul_precision\n"
     ]
    },
    {
     "name": "stdout",
     "output_type": "stream",
     "text": [
      "Starting training...\n"
     ]
    },
    {
     "name": "stderr",
     "output_type": "stream",
     "text": [
      "c:\\ProgramData\\anaconda3\\envs\\piano_judges_latent\\lib\\site-packages\\pytorch_lightning\\callbacks\\model_checkpoint.py:654: Checkpoint directory C:\\Repository\\DL4M_Final_Piano_Judges_with_Music2Latent\\feature_music2latent\\checkpoints exists and is not empty.\n",
      "LOCAL_RANK: 0 - CUDA_VISIBLE_DEVICES: [0]\n",
      "c:\\ProgramData\\anaconda3\\envs\\piano_judges_latent\\lib\\site-packages\\torch\\optim\\lr_scheduler.py:62: UserWarning: The verbose parameter is deprecated. Please use get_last_lr() to access the learning rate.\n",
      "  warnings.warn(\n",
      "\n",
      "  | Name           | Type                       | Params | Mode \n",
      "----------------------------------------------------------------------\n",
      "0 | mlp            | Sequential                 | 2.1 M  | train\n",
      "1 | train_accuracy | MultilabelAccuracy         | 0      | train\n",
      "2 | val_accuracy   | MultilabelAccuracy         | 0      | train\n",
      "3 | test_accuracy  | MultilabelAccuracy         | 0      | train\n",
      "4 | val_map        | MultilabelAveragePrecision | 0      | train\n",
      "5 | val_ap_classes | MultilabelAveragePrecision | 0      | train\n",
      "6 | val_auc        | MultilabelAUROC            | 0      | train\n",
      "7 | test_auc       | MultilabelAUROC            | 0      | train\n",
      "----------------------------------------------------------------------\n",
      "2.1 M     Trainable params\n",
      "0         Non-trainable params\n",
      "2.1 M     Total params\n",
      "8.525     Total estimated model params size (MB)\n",
      "13        Modules in train mode\n",
      "0         Modules in eval mode\n"
     ]
    },
    {
     "name": "stdout",
     "output_type": "stream",
     "text": [
      "Sanity Checking DataLoader 0:  50%|█████     | 1/2 [00:00<00:00,  9.16it/s]"
     ]
    },
    {
     "name": "stderr",
     "output_type": "stream",
     "text": [
      "c:\\ProgramData\\anaconda3\\envs\\piano_judges_latent\\lib\\site-packages\\pytorch_lightning\\trainer\\connectors\\data_connector.py:425: The 'val_dataloader' does not have many workers which may be a bottleneck. Consider increasing the value of the `num_workers` argument` to `num_workers=11` in the `DataLoader` to improve performance.\n"
     ]
    },
    {
     "name": "stdout",
     "output_type": "stream",
     "text": [
      "                                                                           \r"
     ]
    },
    {
     "name": "stderr",
     "output_type": "stream",
     "text": [
      "c:\\ProgramData\\anaconda3\\envs\\piano_judges_latent\\lib\\site-packages\\pytorch_lightning\\trainer\\connectors\\data_connector.py:425: The 'train_dataloader' does not have many workers which may be a bottleneck. Consider increasing the value of the `num_workers` argument` to `num_workers=11` in the `DataLoader` to improve performance.\n",
      "c:\\ProgramData\\anaconda3\\envs\\piano_judges_latent\\lib\\site-packages\\pytorch_lightning\\loops\\fit_loop.py:310: The number of training batches (5) is smaller than the logging interval Trainer(log_every_n_steps=10). Set a lower value for log_every_n_steps if you want to see logs for the training epoch.\n"
     ]
    },
    {
     "name": "stdout",
     "output_type": "stream",
     "text": [
      "Epoch 0:   0%|          | 0/5 [00:00<?, ?it/s] training\n",
      "Epoch 0:  20%|██        | 1/5 [00:00<00:00, 30.08it/s, v_num=25, train_loss=0.692, train_acc=0.509]training\n",
      "Epoch 0:  40%|████      | 2/5 [00:00<00:00, 49.28it/s, v_num=25, train_loss=0.497, train_acc=0.808]training\n",
      "Epoch 0:  60%|██████    | 3/5 [00:00<00:00, 63.15it/s, v_num=25, train_loss=0.505, train_acc=0.830]training\n",
      "Epoch 0:  80%|████████  | 4/5 [00:00<00:00, 76.86it/s, v_num=25, train_loss=0.540, train_acc=0.821]training\n",
      "Epoch 0: 100%|██████████| 5/5 [00:00<00:00, 48.36it/s, v_num=25, train_loss=0.526, train_acc=0.824, val_loss=0.461, val_acc=0.829, val_mAP=0.236, val_auc=0.548]"
     ]
    },
    {
     "name": "stderr",
     "output_type": "stream",
     "text": [
      "Metric val_loss improved. New best score: 0.461\n"
     ]
    },
    {
     "name": "stdout",
     "output_type": "stream",
     "text": [
      "Epoch 1:   0%|          | 0/5 [00:00<?, ?it/s, v_num=25, train_loss=0.526, train_acc=0.824, val_loss=0.461, val_acc=0.829, val_mAP=0.236, val_auc=0.548]        training\n",
      "Epoch 1:  20%|██        | 1/5 [00:00<00:00, 219.21it/s, v_num=25, train_loss=0.471, train_acc=0.821, val_loss=0.461, val_acc=0.829, val_mAP=0.236, val_auc=0.548]training\n",
      "Epoch 1:  40%|████      | 2/5 [00:00<00:00, 188.16it/s, v_num=25, train_loss=0.470, train_acc=0.826, val_loss=0.461, val_acc=0.829, val_mAP=0.236, val_auc=0.548]training\n",
      "Epoch 1:  60%|██████    | 3/5 [00:00<00:00, 184.64it/s, v_num=25, train_loss=0.478, train_acc=0.830, val_loss=0.461, val_acc=0.829, val_mAP=0.236, val_auc=0.548]training\n",
      "Epoch 1:  80%|████████  | 4/5 [00:00<00:00, 179.33it/s, v_num=25, train_loss=0.482, train_acc=0.821, val_loss=0.461, val_acc=0.829, val_mAP=0.236, val_auc=0.548]training\n",
      "Epoch 2:   0%|          | 0/5 [00:00<?, ?it/s, v_num=25, train_loss=0.432, train_acc=0.824, val_loss=0.467, val_acc=0.825, val_mAP=0.225, val_auc=0.570]         training\n",
      "Epoch 2:  20%|██        | 1/5 [00:00<00:00, 164.19it/s, v_num=25, train_loss=0.457, train_acc=0.830, val_loss=0.467, val_acc=0.825, val_mAP=0.225, val_auc=0.570]training\n",
      "Epoch 2:  40%|████      | 2/5 [00:00<00:00, 164.34it/s, v_num=25, train_loss=0.432, train_acc=0.826, val_loss=0.467, val_acc=0.825, val_mAP=0.225, val_auc=0.570]training\n",
      "Epoch 2:  60%|██████    | 3/5 [00:00<00:00, 170.70it/s, v_num=25, train_loss=0.421, train_acc=0.830, val_loss=0.467, val_acc=0.825, val_mAP=0.225, val_auc=0.570]training\n",
      "Epoch 2:  80%|████████  | 4/5 [00:00<00:00, 180.82it/s, v_num=25, train_loss=0.436, train_acc=0.821, val_loss=0.467, val_acc=0.825, val_mAP=0.225, val_auc=0.570]training\n",
      "Epoch 2: 100%|██████████| 5/5 [00:00<00:00, 73.16it/s, v_num=25, train_loss=0.411, train_acc=0.813, val_loss=0.438, val_acc=0.825, val_mAP=0.223, val_auc=0.591] "
     ]
    },
    {
     "name": "stderr",
     "output_type": "stream",
     "text": [
      "Metric val_loss improved by 0.023 >= min_delta = 0.0. New best score: 0.438\n"
     ]
    },
    {
     "name": "stdout",
     "output_type": "stream",
     "text": [
      "Epoch 3:   0%|          | 0/5 [00:00<?, ?it/s, v_num=25, train_loss=0.411, train_acc=0.813, val_loss=0.438, val_acc=0.825, val_mAP=0.223, val_auc=0.591]        training\n",
      "Epoch 3:  20%|██        | 1/5 [00:00<00:00, 111.86it/s, v_num=25, train_loss=0.424, train_acc=0.826, val_loss=0.438, val_acc=0.825, val_mAP=0.223, val_auc=0.591]training\n",
      "Epoch 3:  40%|████      | 2/5 [00:00<00:00, 133.20it/s, v_num=25, train_loss=0.429, train_acc=0.826, val_loss=0.438, val_acc=0.825, val_mAP=0.223, val_auc=0.591]training\n",
      "Epoch 3:  60%|██████    | 3/5 [00:00<00:00, 133.25it/s, v_num=25, train_loss=0.405, train_acc=0.835, val_loss=0.438, val_acc=0.825, val_mAP=0.223, val_auc=0.591]training\n",
      "Epoch 3:  80%|████████  | 4/5 [00:00<00:00, 124.75it/s, v_num=25, train_loss=0.421, train_acc=0.826, val_loss=0.438, val_acc=0.825, val_mAP=0.223, val_auc=0.591]training\n",
      "Epoch 3: 100%|██████████| 5/5 [00:00<00:00, 52.95it/s, v_num=25, train_loss=0.380, train_acc=0.813, val_loss=0.420, val_acc=0.825, val_mAP=0.225, val_auc=0.607] "
     ]
    },
    {
     "name": "stderr",
     "output_type": "stream",
     "text": [
      "Metric val_loss improved by 0.018 >= min_delta = 0.0. New best score: 0.420\n"
     ]
    },
    {
     "name": "stdout",
     "output_type": "stream",
     "text": [
      "Epoch 4:   0%|          | 0/5 [00:00<?, ?it/s, v_num=25, train_loss=0.380, train_acc=0.813, val_loss=0.420, val_acc=0.825, val_mAP=0.225, val_auc=0.607]        training\n",
      "Epoch 4:  20%|██        | 1/5 [00:00<00:00, 129.09it/s, v_num=25, train_loss=0.408, train_acc=0.835, val_loss=0.420, val_acc=0.825, val_mAP=0.225, val_auc=0.607]training\n",
      "Epoch 4:  40%|████      | 2/5 [00:00<00:00, 149.57it/s, v_num=25, train_loss=0.400, train_acc=0.830, val_loss=0.420, val_acc=0.825, val_mAP=0.225, val_auc=0.607]training\n",
      "Epoch 4:  60%|██████    | 3/5 [00:00<00:00, 167.25it/s, v_num=25, train_loss=0.365, train_acc=0.848, val_loss=0.420, val_acc=0.825, val_mAP=0.225, val_auc=0.607]training\n",
      "Epoch 4:  80%|████████  | 4/5 [00:00<00:00, 166.59it/s, v_num=25, train_loss=0.390, train_acc=0.830, val_loss=0.420, val_acc=0.825, val_mAP=0.225, val_auc=0.607]training\n",
      "Epoch 4: 100%|██████████| 5/5 [00:00<00:00, 74.82it/s, v_num=25, train_loss=0.348, train_acc=0.824, val_loss=0.416, val_acc=0.825, val_mAP=0.238, val_auc=0.629] "
     ]
    },
    {
     "name": "stderr",
     "output_type": "stream",
     "text": [
      "Metric val_loss improved by 0.005 >= min_delta = 0.0. New best score: 0.416\n"
     ]
    },
    {
     "name": "stdout",
     "output_type": "stream",
     "text": [
      "Epoch 5:   0%|          | 0/5 [00:00<?, ?it/s, v_num=25, train_loss=0.348, train_acc=0.824, val_loss=0.416, val_acc=0.825, val_mAP=0.238, val_auc=0.629]        training\n",
      "Epoch 5:  20%|██        | 1/5 [00:00<00:00, 131.18it/s, v_num=25, train_loss=0.390, train_acc=0.826, val_loss=0.416, val_acc=0.825, val_mAP=0.238, val_auc=0.629]training\n",
      "Epoch 5:  40%|████      | 2/5 [00:00<00:00, 163.67it/s, v_num=25, train_loss=0.395, train_acc=0.839, val_loss=0.416, val_acc=0.825, val_mAP=0.238, val_auc=0.629]training\n",
      "Epoch 5:  60%|██████    | 3/5 [00:00<00:00, 163.91it/s, v_num=25, train_loss=0.362, train_acc=0.848, val_loss=0.416, val_acc=0.825, val_mAP=0.238, val_auc=0.629]training\n",
      "Epoch 5:  80%|████████  | 4/5 [00:00<00:00, 175.09it/s, v_num=25, train_loss=0.376, train_acc=0.853, val_loss=0.416, val_acc=0.825, val_mAP=0.238, val_auc=0.629]training\n",
      "Epoch 5: 100%|██████████| 5/5 [00:00<00:00, 70.19it/s, v_num=25, train_loss=0.305, train_acc=0.857, val_loss=0.402, val_acc=0.853, val_mAP=0.268, val_auc=0.645] "
     ]
    },
    {
     "name": "stderr",
     "output_type": "stream",
     "text": [
      "Metric val_loss improved by 0.014 >= min_delta = 0.0. New best score: 0.402\n"
     ]
    },
    {
     "name": "stdout",
     "output_type": "stream",
     "text": [
      "Epoch 6:   0%|          | 0/5 [00:00<?, ?it/s, v_num=25, train_loss=0.305, train_acc=0.857, val_loss=0.402, val_acc=0.853, val_mAP=0.268, val_auc=0.645]        training\n",
      "Epoch 6:  20%|██        | 1/5 [00:00<00:00, 131.39it/s, v_num=25, train_loss=0.372, train_acc=0.817, val_loss=0.402, val_acc=0.853, val_mAP=0.268, val_auc=0.645]training\n",
      "Epoch 6:  40%|████      | 2/5 [00:00<00:00, 134.40it/s, v_num=25, train_loss=0.375, train_acc=0.853, val_loss=0.402, val_acc=0.853, val_mAP=0.268, val_auc=0.645]training\n",
      "Epoch 6:  60%|██████    | 3/5 [00:00<00:00, 143.34it/s, v_num=25, train_loss=0.339, train_acc=0.853, val_loss=0.402, val_acc=0.853, val_mAP=0.268, val_auc=0.645]training\n",
      "Epoch 6:  80%|████████  | 4/5 [00:00<00:00, 141.80it/s, v_num=25, train_loss=0.359, train_acc=0.848, val_loss=0.402, val_acc=0.853, val_mAP=0.268, val_auc=0.645]training\n",
      "Epoch 7:   0%|          | 0/5 [00:00<?, ?it/s, v_num=25, train_loss=0.281, train_acc=0.868, val_loss=0.402, val_acc=0.849, val_mAP=0.289, val_auc=0.657]         training\n",
      "Epoch 7:  20%|██        | 1/5 [00:00<00:00, 164.84it/s, v_num=25, train_loss=0.355, train_acc=0.830, val_loss=0.402, val_acc=0.849, val_mAP=0.289, val_auc=0.657]training\n",
      "Epoch 7:  40%|████      | 2/5 [00:00<00:00, 163.61it/s, v_num=25, train_loss=0.376, train_acc=0.844, val_loss=0.402, val_acc=0.849, val_mAP=0.289, val_auc=0.657]training\n",
      "Epoch 7:  60%|██████    | 3/5 [00:00<00:00, 178.78it/s, v_num=25, train_loss=0.332, train_acc=0.879, val_loss=0.402, val_acc=0.849, val_mAP=0.289, val_auc=0.657]training\n",
      "Epoch 7:  80%|████████  | 4/5 [00:00<00:00, 175.06it/s, v_num=25, train_loss=0.344, train_acc=0.862, val_loss=0.402, val_acc=0.849, val_mAP=0.289, val_auc=0.657]training\n",
      "Epoch 8:   0%|          | 0/5 [00:00<?, ?it/s, v_num=25, train_loss=0.252, train_acc=0.879, val_loss=0.405, val_acc=0.845, val_mAP=0.301, val_auc=0.665]         training\n",
      "Epoch 8:  20%|██        | 1/5 [00:00<00:00, 164.90it/s, v_num=25, train_loss=0.334, train_acc=0.866, val_loss=0.405, val_acc=0.845, val_mAP=0.301, val_auc=0.665]training\n",
      "Epoch 8:  40%|████      | 2/5 [00:00<00:00, 164.92it/s, v_num=25, train_loss=0.359, train_acc=0.839, val_loss=0.405, val_acc=0.845, val_mAP=0.301, val_auc=0.665]training\n",
      "Epoch 8:  60%|██████    | 3/5 [00:00<00:00, 164.40it/s, v_num=25, train_loss=0.318, train_acc=0.879, val_loss=0.405, val_acc=0.845, val_mAP=0.301, val_auc=0.665]training\n",
      "Epoch 8:  80%|████████  | 4/5 [00:00<00:00, 175.43it/s, v_num=25, train_loss=0.331, train_acc=0.853, val_loss=0.405, val_acc=0.845, val_mAP=0.301, val_auc=0.665]training\n",
      "Epoch 8: 100%|██████████| 5/5 [00:00<00:00, 71.79it/s, v_num=25, train_loss=0.227, train_acc=0.923, val_loss=0.402, val_acc=0.837, val_mAP=0.312, val_auc=0.670] "
     ]
    },
    {
     "name": "stderr",
     "output_type": "stream",
     "text": [
      "Metric val_loss improved by 0.000 >= min_delta = 0.0. New best score: 0.402\n"
     ]
    },
    {
     "name": "stdout",
     "output_type": "stream",
     "text": [
      "Epoch 9:   0%|          | 0/5 [00:00<?, ?it/s, v_num=25, train_loss=0.227, train_acc=0.923, val_loss=0.402, val_acc=0.837, val_mAP=0.312, val_auc=0.670]        training\n",
      "Epoch 9:  20%|██        | 1/5 [00:00<00:00, 162.96it/s, v_num=25, train_loss=0.320, train_acc=0.871, val_loss=0.402, val_acc=0.837, val_mAP=0.312, val_auc=0.670]training\n",
      "Epoch 9:  40%|████      | 2/5 [00:00<00:00, 162.26it/s, v_num=25, train_loss=0.354, train_acc=0.862, val_loss=0.402, val_acc=0.837, val_mAP=0.312, val_auc=0.670]training\n",
      "Epoch 9:  60%|██████    | 3/5 [00:00<00:00, 150.10it/s, v_num=25, train_loss=0.313, train_acc=0.884, val_loss=0.402, val_acc=0.837, val_mAP=0.312, val_auc=0.670]training\n",
      "Epoch 9:  80%|████████  | 4/5 [00:00<00:00, 153.44it/s, v_num=25, train_loss=0.314, train_acc=0.853, val_loss=0.402, val_acc=0.837, val_mAP=0.312, val_auc=0.670]training\n",
      "Epoch 10:   0%|          | 0/5 [00:00<?, ?it/s, v_num=25, train_loss=0.205, train_acc=0.923, val_loss=0.413, val_acc=0.833, val_mAP=0.321, val_auc=0.674]        training\n",
      "Epoch 10:  20%|██        | 1/5 [00:00<00:00, 116.63it/s, v_num=25, train_loss=0.311, train_acc=0.879, val_loss=0.413, val_acc=0.833, val_mAP=0.321, val_auc=0.674]training\n",
      "Epoch 10:  40%|████      | 2/5 [00:00<00:00, 140.85it/s, v_num=25, train_loss=0.342, train_acc=0.862, val_loss=0.413, val_acc=0.833, val_mAP=0.321, val_auc=0.674]training\n",
      "Epoch 10:  60%|██████    | 3/5 [00:00<00:00, 143.06it/s, v_num=25, train_loss=0.297, train_acc=0.884, val_loss=0.413, val_acc=0.833, val_mAP=0.321, val_auc=0.674]training\n",
      "Epoch 10:  80%|████████  | 4/5 [00:00<00:00, 147.88it/s, v_num=25, train_loss=0.302, train_acc=0.857, val_loss=0.413, val_acc=0.833, val_mAP=0.321, val_auc=0.674]training\n",
      "Epoch 11:   0%|          | 0/5 [00:00<?, ?it/s, v_num=25, train_loss=0.189, train_acc=0.923, val_loss=0.408, val_acc=0.837, val_mAP=0.328, val_auc=0.679]         training\n",
      "Epoch 11:  20%|██        | 1/5 [00:00<00:00, 139.53it/s, v_num=25, train_loss=0.292, train_acc=0.888, val_loss=0.408, val_acc=0.837, val_mAP=0.328, val_auc=0.679]training\n",
      "Epoch 11:  40%|████      | 2/5 [00:00<00:00, 149.94it/s, v_num=25, train_loss=0.334, train_acc=0.857, val_loss=0.408, val_acc=0.837, val_mAP=0.328, val_auc=0.679]training\n",
      "Epoch 11:  60%|██████    | 3/5 [00:00<00:00, 167.84it/s, v_num=25, train_loss=0.289, train_acc=0.906, val_loss=0.408, val_acc=0.837, val_mAP=0.328, val_auc=0.679]training\n",
      "Epoch 11:  80%|████████  | 4/5 [00:00<00:00, 157.02it/s, v_num=25, train_loss=0.290, train_acc=0.862, val_loss=0.408, val_acc=0.837, val_mAP=0.328, val_auc=0.679]training\n",
      "Epoch 12:   0%|          | 0/5 [00:00<?, ?it/s, v_num=25, train_loss=0.174, train_acc=0.923, val_loss=0.416, val_acc=0.821, val_mAP=0.335, val_auc=0.683]         training\n",
      "Epoch 12:  20%|██        | 1/5 [00:00<00:00, 165.12it/s, v_num=25, train_loss=0.283, train_acc=0.888, val_loss=0.416, val_acc=0.821, val_mAP=0.335, val_auc=0.683]training\n",
      "Epoch 12:  40%|████      | 2/5 [00:00<00:00, 164.10it/s, v_num=25, train_loss=0.325, train_acc=0.853, val_loss=0.416, val_acc=0.821, val_mAP=0.335, val_auc=0.683]training\n",
      "Epoch 12:  60%|██████    | 3/5 [00:00<00:00, 164.39it/s, v_num=25, train_loss=0.273, train_acc=0.911, val_loss=0.416, val_acc=0.821, val_mAP=0.335, val_auc=0.683]training\n",
      "Epoch 12:  80%|████████  | 4/5 [00:00<00:00, 164.10it/s, v_num=25, train_loss=0.279, train_acc=0.866, val_loss=0.416, val_acc=0.821, val_mAP=0.335, val_auc=0.683]training\n",
      "Epoch 13:   0%|          | 0/5 [00:00<?, ?it/s, v_num=25, train_loss=0.162, train_acc=0.956, val_loss=0.411, val_acc=0.825, val_mAP=0.341, val_auc=0.688]         training\n",
      "Epoch 13:  20%|██        | 1/5 [00:00<00:00, 164.70it/s, v_num=25, train_loss=0.266, train_acc=0.897, val_loss=0.411, val_acc=0.825, val_mAP=0.341, val_auc=0.688]training\n",
      "Epoch 13:  40%|████      | 2/5 [00:00<00:00, 164.51it/s, v_num=25, train_loss=0.318, train_acc=0.857, val_loss=0.411, val_acc=0.825, val_mAP=0.341, val_auc=0.688]training\n",
      "Epoch 13:  60%|██████    | 3/5 [00:00<00:00, 163.57it/s, v_num=25, train_loss=0.256, train_acc=0.911, val_loss=0.411, val_acc=0.825, val_mAP=0.341, val_auc=0.688]training\n",
      "Epoch 13:  80%|████████  | 4/5 [00:00<00:00, 174.77it/s, v_num=25, train_loss=0.266, train_acc=0.879, val_loss=0.411, val_acc=0.825, val_mAP=0.341, val_auc=0.688]training\n",
      "Epoch 14:   0%|          | 0/5 [00:00<?, ?it/s, v_num=25, train_loss=0.154, train_acc=0.956, val_loss=0.411, val_acc=0.837, val_mAP=0.346, val_auc=0.692]         training\n",
      "Epoch 14:  20%|██        | 1/5 [00:00<00:00, 172.16it/s, v_num=25, train_loss=0.262, train_acc=0.902, val_loss=0.411, val_acc=0.837, val_mAP=0.346, val_auc=0.692]training\n",
      "Epoch 14:  40%|████      | 2/5 [00:00<00:00, 168.47it/s, v_num=25, train_loss=0.316, train_acc=0.875, val_loss=0.411, val_acc=0.837, val_mAP=0.346, val_auc=0.692]training\n",
      "Epoch 14:  60%|██████    | 3/5 [00:00<00:00, 156.91it/s, v_num=25, train_loss=0.256, train_acc=0.911, val_loss=0.411, val_acc=0.837, val_mAP=0.346, val_auc=0.692]training\n",
      "Epoch 14:  80%|████████  | 4/5 [00:00<00:00, 158.77it/s, v_num=25, train_loss=0.265, train_acc=0.888, val_loss=0.411, val_acc=0.837, val_mAP=0.346, val_auc=0.692]training\n",
      "Epoch 15:   0%|          | 0/5 [00:00<?, ?it/s, v_num=25, train_loss=0.152, train_acc=0.978, val_loss=0.412, val_acc=0.841, val_mAP=0.355, val_auc=0.695]         training\n",
      "Epoch 15:  20%|██        | 1/5 [00:00<00:00, 164.61it/s, v_num=25, train_loss=0.259, train_acc=0.902, val_loss=0.412, val_acc=0.841, val_mAP=0.355, val_auc=0.695]training\n",
      "Epoch 15:  40%|████      | 2/5 [00:00<00:00, 169.43it/s, v_num=25, train_loss=0.315, train_acc=0.884, val_loss=0.412, val_acc=0.841, val_mAP=0.355, val_auc=0.695]training\n",
      "Epoch 15:  60%|██████    | 3/5 [00:00<00:00, 167.84it/s, v_num=25, train_loss=0.257, train_acc=0.911, val_loss=0.412, val_acc=0.841, val_mAP=0.355, val_auc=0.695]training\n",
      "Epoch 15:  80%|████████  | 4/5 [00:00<00:00, 167.10it/s, v_num=25, train_loss=0.265, train_acc=0.888, val_loss=0.412, val_acc=0.841, val_mAP=0.355, val_auc=0.695]training\n",
      "Epoch 16:   0%|          | 0/5 [00:00<?, ?it/s, v_num=25, train_loss=0.149, train_acc=0.978, val_loss=0.412, val_acc=0.837, val_mAP=0.361, val_auc=0.699]         training\n",
      "Epoch 16:  20%|██        | 1/5 [00:00<00:00, 138.46it/s, v_num=25, train_loss=0.257, train_acc=0.902, val_loss=0.412, val_acc=0.837, val_mAP=0.361, val_auc=0.699]training\n",
      "Epoch 16:  40%|████      | 2/5 [00:00<00:00, 134.86it/s, v_num=25, train_loss=0.314, train_acc=0.862, val_loss=0.412, val_acc=0.837, val_mAP=0.361, val_auc=0.699]training\n",
      "Epoch 16:  60%|██████    | 3/5 [00:00<00:00, 143.65it/s, v_num=25, train_loss=0.256, train_acc=0.911, val_loss=0.412, val_acc=0.837, val_mAP=0.361, val_auc=0.699]training\n",
      "Epoch 16:  80%|████████  | 4/5 [00:00<00:00, 143.45it/s, v_num=25, train_loss=0.264, train_acc=0.884, val_loss=0.412, val_acc=0.837, val_mAP=0.361, val_auc=0.699]training\n",
      "Epoch 17:   0%|          | 0/5 [00:00<?, ?it/s, v_num=25, train_loss=0.147, train_acc=0.967, val_loss=0.411, val_acc=0.837, val_mAP=0.365, val_auc=0.702]         training\n",
      "Epoch 17:  20%|██        | 1/5 [00:00<00:00, 163.85it/s, v_num=25, train_loss=0.256, train_acc=0.902, val_loss=0.411, val_acc=0.837, val_mAP=0.365, val_auc=0.702]training\n",
      "Epoch 17:  40%|████      | 2/5 [00:00<00:00, 164.60it/s, v_num=25, train_loss=0.313, train_acc=0.862, val_loss=0.411, val_acc=0.837, val_mAP=0.365, val_auc=0.702]training\n",
      "Epoch 17:  60%|██████    | 3/5 [00:00<00:00, 164.70it/s, v_num=25, train_loss=0.254, train_acc=0.915, val_loss=0.411, val_acc=0.837, val_mAP=0.365, val_auc=0.702]training\n",
      "Epoch 17:  80%|████████  | 4/5 [00:00<00:00, 138.14it/s, v_num=25, train_loss=0.263, train_acc=0.884, val_loss=0.411, val_acc=0.837, val_mAP=0.365, val_auc=0.702]training\n",
      "Epoch 18:   0%|          | 0/5 [00:00<?, ?it/s, v_num=25, train_loss=0.147, train_acc=0.967, val_loss=0.411, val_acc=0.837, val_mAP=0.369, val_auc=0.705]         training\n",
      "Epoch 18:  20%|██        | 1/5 [00:00<00:00, 171.86it/s, v_num=25, train_loss=0.256, train_acc=0.902, val_loss=0.411, val_acc=0.837, val_mAP=0.369, val_auc=0.705]training\n",
      "Epoch 18:  40%|████      | 2/5 [00:00<00:00, 192.60it/s, v_num=25, train_loss=0.313, train_acc=0.862, val_loss=0.411, val_acc=0.837, val_mAP=0.369, val_auc=0.705]training\n",
      "Epoch 18:  60%|██████    | 3/5 [00:00<00:00, 200.90it/s, v_num=25, train_loss=0.253, train_acc=0.911, val_loss=0.411, val_acc=0.837, val_mAP=0.369, val_auc=0.705]training\n",
      "Epoch 18:  80%|████████  | 4/5 [00:00<00:00, 189.58it/s, v_num=25, train_loss=0.263, train_acc=0.884, val_loss=0.411, val_acc=0.837, val_mAP=0.369, val_auc=0.705]training\n",
      "Epoch 19:   0%|          | 0/5 [00:00<?, ?it/s, v_num=25, train_loss=0.147, train_acc=0.967, val_loss=0.411, val_acc=0.837, val_mAP=0.373, val_auc=0.707]         training\n",
      "Epoch 19:  20%|██        | 1/5 [00:00<00:00, 163.92it/s, v_num=25, train_loss=0.256, train_acc=0.902, val_loss=0.411, val_acc=0.837, val_mAP=0.373, val_auc=0.707]training\n",
      "Epoch 19:  40%|████      | 2/5 [00:00<00:00, 163.53it/s, v_num=25, train_loss=0.313, train_acc=0.866, val_loss=0.411, val_acc=0.837, val_mAP=0.373, val_auc=0.707]training\n",
      "Epoch 19:  60%|██████    | 3/5 [00:00<00:00, 178.30it/s, v_num=25, train_loss=0.253, train_acc=0.911, val_loss=0.411, val_acc=0.837, val_mAP=0.373, val_auc=0.707]training\n",
      "Epoch 19:  80%|████████  | 4/5 [00:00<00:00, 174.22it/s, v_num=25, train_loss=0.263, train_acc=0.884, val_loss=0.411, val_acc=0.837, val_mAP=0.373, val_auc=0.707]training\n",
      "Epoch 20:   0%|          | 0/5 [00:00<?, ?it/s, v_num=25, train_loss=0.147, train_acc=0.967, val_loss=0.411, val_acc=0.837, val_mAP=0.377, val_auc=0.709]         training\n",
      "Epoch 20:  20%|██        | 1/5 [00:00<00:00, 138.10it/s, v_num=25, train_loss=0.256, train_acc=0.902, val_loss=0.411, val_acc=0.837, val_mAP=0.377, val_auc=0.709]training\n",
      "Epoch 20:  40%|████      | 2/5 [00:00<00:00, 150.30it/s, v_num=25, train_loss=0.312, train_acc=0.871, val_loss=0.411, val_acc=0.837, val_mAP=0.377, val_auc=0.709]training\n",
      "Epoch 20:  60%|██████    | 3/5 [00:00<00:00, 154.97it/s, v_num=25, train_loss=0.253, train_acc=0.911, val_loss=0.411, val_acc=0.837, val_mAP=0.377, val_auc=0.709]training\n",
      "Epoch 20:  80%|████████  | 4/5 [00:00<00:00, 156.72it/s, v_num=25, train_loss=0.262, train_acc=0.884, val_loss=0.411, val_acc=0.837, val_mAP=0.377, val_auc=0.709]training\n",
      "Epoch 21:   0%|          | 0/5 [00:00<?, ?it/s, v_num=25, train_loss=0.147, train_acc=0.978, val_loss=0.411, val_acc=0.837, val_mAP=0.381, val_auc=0.712]         training\n",
      "Epoch 21:  20%|██        | 1/5 [00:00<00:00, 164.50it/s, v_num=25, train_loss=0.256, train_acc=0.902, val_loss=0.411, val_acc=0.837, val_mAP=0.381, val_auc=0.712]training\n",
      "Epoch 21:  40%|████      | 2/5 [00:00<00:00, 169.13it/s, v_num=25, train_loss=0.312, train_acc=0.871, val_loss=0.411, val_acc=0.837, val_mAP=0.381, val_auc=0.712]training\n",
      "Epoch 21:  60%|██████    | 3/5 [00:00<00:00, 167.52it/s, v_num=25, train_loss=0.253, train_acc=0.911, val_loss=0.411, val_acc=0.837, val_mAP=0.381, val_auc=0.712]training\n",
      "Epoch 21:  80%|████████  | 4/5 [00:00<00:00, 166.68it/s, v_num=25, train_loss=0.262, train_acc=0.884, val_loss=0.411, val_acc=0.837, val_mAP=0.381, val_auc=0.712]training\n",
      "Epoch 22:   0%|          | 0/5 [00:00<?, ?it/s, v_num=25, train_loss=0.147, train_acc=0.978, val_loss=0.411, val_acc=0.837, val_mAP=0.384, val_auc=0.714]         training\n",
      "Epoch 22:  20%|██        | 1/5 [00:00<00:00, 217.87it/s, v_num=25, train_loss=0.256, train_acc=0.902, val_loss=0.411, val_acc=0.837, val_mAP=0.384, val_auc=0.714]training\n",
      "Epoch 22:  40%|████      | 2/5 [00:00<00:00, 219.36it/s, v_num=25, train_loss=0.312, train_acc=0.871, val_loss=0.411, val_acc=0.837, val_mAP=0.384, val_auc=0.714]training\n",
      "Epoch 22:  60%|██████    | 3/5 [00:00<00:00, 203.62it/s, v_num=25, train_loss=0.253, train_acc=0.911, val_loss=0.411, val_acc=0.837, val_mAP=0.384, val_auc=0.714]training\n",
      "Epoch 22:  80%|████████  | 4/5 [00:00<00:00, 225.19it/s, v_num=25, train_loss=0.262, train_acc=0.884, val_loss=0.411, val_acc=0.837, val_mAP=0.384, val_auc=0.714]training\n",
      "Epoch 23:   0%|          | 0/5 [00:00<?, ?it/s, v_num=25, train_loss=0.147, train_acc=0.978, val_loss=0.411, val_acc=0.837, val_mAP=0.387, val_auc=0.715]         training\n",
      "Epoch 23:  20%|██        | 1/5 [00:00<00:00, 162.61it/s, v_num=25, train_loss=0.256, train_acc=0.902, val_loss=0.411, val_acc=0.837, val_mAP=0.387, val_auc=0.715]training\n",
      "Epoch 23:  40%|████      | 2/5 [00:00<00:00, 163.48it/s, v_num=25, train_loss=0.312, train_acc=0.871, val_loss=0.411, val_acc=0.837, val_mAP=0.387, val_auc=0.715]training\n",
      "Epoch 23:  60%|██████    | 3/5 [00:00<00:00, 163.07it/s, v_num=25, train_loss=0.253, train_acc=0.911, val_loss=0.411, val_acc=0.837, val_mAP=0.387, val_auc=0.715]training\n",
      "Epoch 23:  80%|████████  | 4/5 [00:00<00:00, 174.31it/s, v_num=25, train_loss=0.262, train_acc=0.884, val_loss=0.411, val_acc=0.837, val_mAP=0.387, val_auc=0.715]training\n",
      "Epoch 24:   0%|          | 0/5 [00:00<?, ?it/s, v_num=25, train_loss=0.147, train_acc=0.978, val_loss=0.411, val_acc=0.837, val_mAP=0.391, val_auc=0.717]         training\n",
      "Epoch 24:  20%|██        | 1/5 [00:00<00:00, 164.09it/s, v_num=25, train_loss=0.256, train_acc=0.902, val_loss=0.411, val_acc=0.837, val_mAP=0.391, val_auc=0.717]training\n",
      "Epoch 24:  40%|████      | 2/5 [00:00<00:00, 168.41it/s, v_num=25, train_loss=0.312, train_acc=0.871, val_loss=0.411, val_acc=0.837, val_mAP=0.391, val_auc=0.717]training\n",
      "Epoch 24:  60%|██████    | 3/5 [00:00<00:00, 182.70it/s, v_num=25, train_loss=0.253, train_acc=0.911, val_loss=0.411, val_acc=0.837, val_mAP=0.391, val_auc=0.717]training\n",
      "Epoch 24:  80%|████████  | 4/5 [00:00<00:00, 190.74it/s, v_num=25, train_loss=0.262, train_acc=0.884, val_loss=0.411, val_acc=0.837, val_mAP=0.391, val_auc=0.717]training\n",
      "Epoch 25:   0%|          | 0/5 [00:00<?, ?it/s, v_num=25, train_loss=0.147, train_acc=0.978, val_loss=0.411, val_acc=0.837, val_mAP=0.394, val_auc=0.719]         training\n",
      "Epoch 25:  20%|██        | 1/5 [00:00<00:00, 163.97it/s, v_num=25, train_loss=0.256, train_acc=0.902, val_loss=0.411, val_acc=0.837, val_mAP=0.394, val_auc=0.719]training\n",
      "Epoch 25:  40%|████      | 2/5 [00:00<00:00, 187.54it/s, v_num=25, train_loss=0.312, train_acc=0.871, val_loss=0.411, val_acc=0.837, val_mAP=0.394, val_auc=0.719]training\n",
      "Epoch 25:  60%|██████    | 3/5 [00:00<00:00, 164.42it/s, v_num=25, train_loss=0.253, train_acc=0.911, val_loss=0.411, val_acc=0.837, val_mAP=0.394, val_auc=0.719]training\n",
      "Epoch 25:  80%|████████  | 4/5 [00:00<00:00, 156.28it/s, v_num=25, train_loss=0.262, train_acc=0.884, val_loss=0.411, val_acc=0.837, val_mAP=0.394, val_auc=0.719]training\n",
      "Epoch 26:   0%|          | 0/5 [00:00<?, ?it/s, v_num=25, train_loss=0.147, train_acc=0.978, val_loss=0.411, val_acc=0.837, val_mAP=0.396, val_auc=0.720]         training\n",
      "Epoch 26:  20%|██        | 1/5 [00:00<00:00, 130.44it/s, v_num=25, train_loss=0.256, train_acc=0.902, val_loss=0.411, val_acc=0.837, val_mAP=0.396, val_auc=0.720]training\n",
      "Epoch 26:  40%|████      | 2/5 [00:00<00:00, 121.89it/s, v_num=25, train_loss=0.312, train_acc=0.871, val_loss=0.411, val_acc=0.837, val_mAP=0.396, val_auc=0.720]training\n",
      "Epoch 26:  60%|██████    | 3/5 [00:00<00:00, 127.45it/s, v_num=25, train_loss=0.253, train_acc=0.911, val_loss=0.411, val_acc=0.837, val_mAP=0.396, val_auc=0.720]training\n",
      "Epoch 26:  80%|████████  | 4/5 [00:00<00:00, 136.24it/s, v_num=25, train_loss=0.262, train_acc=0.884, val_loss=0.411, val_acc=0.837, val_mAP=0.396, val_auc=0.720]training\n",
      "Epoch 27:   0%|          | 0/5 [00:00<?, ?it/s, v_num=25, train_loss=0.147, train_acc=0.978, val_loss=0.411, val_acc=0.837, val_mAP=0.399, val_auc=0.722]         training\n",
      "Epoch 27:  20%|██        | 1/5 [00:00<00:00, 164.26it/s, v_num=25, train_loss=0.256, train_acc=0.902, val_loss=0.411, val_acc=0.837, val_mAP=0.399, val_auc=0.722]training\n",
      "Epoch 27:  40%|████      | 2/5 [00:00<00:00, 145.28it/s, v_num=25, train_loss=0.312, train_acc=0.871, val_loss=0.411, val_acc=0.837, val_mAP=0.399, val_auc=0.722]training\n",
      "Epoch 27:  60%|██████    | 3/5 [00:00<00:00, 130.31it/s, v_num=25, train_loss=0.253, train_acc=0.911, val_loss=0.411, val_acc=0.837, val_mAP=0.399, val_auc=0.722]training\n",
      "Epoch 27:  80%|████████  | 4/5 [00:00<00:00, 124.21it/s, v_num=25, train_loss=0.262, train_acc=0.884, val_loss=0.411, val_acc=0.837, val_mAP=0.399, val_auc=0.722]training\n",
      "Epoch 28:   0%|          | 0/5 [00:00<?, ?it/s, v_num=25, train_loss=0.147, train_acc=0.978, val_loss=0.411, val_acc=0.837, val_mAP=0.402, val_auc=0.723]         training\n",
      "Epoch 28:  20%|██        | 1/5 [00:00<00:00, 131.00it/s, v_num=25, train_loss=0.256, train_acc=0.902, val_loss=0.411, val_acc=0.837, val_mAP=0.402, val_auc=0.723]training\n",
      "Epoch 28:  40%|████      | 2/5 [00:00<00:00, 130.11it/s, v_num=25, train_loss=0.312, train_acc=0.871, val_loss=0.411, val_acc=0.837, val_mAP=0.402, val_auc=0.723]training\n",
      "Epoch 28:  60%|██████    | 3/5 [00:00<00:00, 139.72it/s, v_num=25, train_loss=0.253, train_acc=0.911, val_loss=0.411, val_acc=0.837, val_mAP=0.402, val_auc=0.723]training\n",
      "Epoch 28:  80%|████████  | 4/5 [00:00<00:00, 145.25it/s, v_num=25, train_loss=0.262, train_acc=0.884, val_loss=0.411, val_acc=0.837, val_mAP=0.402, val_auc=0.723]training\n",
      "Epoch 28: 100%|██████████| 5/5 [00:00<00:00, 66.75it/s, v_num=25, train_loss=0.147, train_acc=0.978, val_loss=0.411, val_acc=0.837, val_mAP=0.404, val_auc=0.724] "
     ]
    },
    {
     "name": "stderr",
     "output_type": "stream",
     "text": [
      "Monitored metric val_loss did not improve in the last 20 records. Best score: 0.402. Signaling Trainer to stop.\n"
     ]
    },
    {
     "name": "stdout",
     "output_type": "stream",
     "text": [
      "Epoch 28: 100%|██████████| 5/5 [00:00<00:00, 64.17it/s, v_num=25, train_loss=0.147, train_acc=0.978, val_loss=0.411, val_acc=0.837, val_mAP=0.404, val_auc=0.724]\n",
      "Training completed!\n"
     ]
    }
   ],
   "source": [
    "# Initialize trainer\n",
    "trainer = pl.Trainer(\n",
    "    max_epochs=50,  # Adjust as needed\n",
    "    callbacks=[checkpoint_callback, early_stop_callback],\n",
    "    logger=logger,\n",
    "    accelerator=\"auto\",  # Uses GPU if available\n",
    "    devices=1,\n",
    "    log_every_n_steps=10,\n",
    ")\n",
    "\n",
    "# Train the model\n",
    "print(\"Starting training...\")\n",
    "trainer.fit(model, train_loader, val_loader)\n",
    "print(\"Training completed!\")"
   ]
  },
  {
   "cell_type": "code",
   "execution_count": null,
   "metadata": {},
   "outputs": [],
   "source": []
  },
  {
   "cell_type": "code",
   "execution_count": 16,
   "metadata": {},
   "outputs": [
    {
     "name": "stderr",
     "output_type": "stream",
     "text": [
      "LOCAL_RANK: 0 - CUDA_VISIBLE_DEVICES: [0]\n",
      "c:\\ProgramData\\anaconda3\\envs\\piano_judges_latent\\lib\\site-packages\\pytorch_lightning\\trainer\\connectors\\data_connector.py:425: The 'test_dataloader' does not have many workers which may be a bottleneck. Consider increasing the value of the `num_workers` argument` to `num_workers=11` in the `DataLoader` to improve performance.\n"
     ]
    },
    {
     "name": "stdout",
     "output_type": "stream",
     "text": [
      "Loading best model from C:\\Repository\\DL4M_Final_Piano_Judges_with_Music2Latent\\feature_music2latent\\checkpoints\\technique-epoch=08-val_loss=0.40.ckpt\n",
      "Evaluating on test set...\n",
      "Testing DataLoader 0:   0%|          | 0/2 [00:00<?, ?it/s]torch.float32 torch.int64\n",
      "Testing DataLoader 0:  50%|█████     | 1/2 [00:00<00:00, 164.49it/s]torch.float32 torch.int64\n",
      "Testing DataLoader 0: 100%|██████████| 2/2 [00:00<00:00, 120.02it/s]\n"
     ]
    },
    {
     "data": {
      "text/html": [
       "<pre style=\"white-space:pre;overflow-x:auto;line-height:normal;font-family:Menlo,'DejaVu Sans Mono',consolas,'Courier New',monospace\">┏━━━━━━━━━━━━━━━━━━━━━━━━━━━┳━━━━━━━━━━━━━━━━━━━━━━━━━━━┓\n",
       "┃<span style=\"font-weight: bold\">        Test metric        </span>┃<span style=\"font-weight: bold\">       DataLoader 0        </span>┃\n",
       "┡━━━━━━━━━━━━━━━━━━━━━━━━━━━╇━━━━━━━━━━━━━━━━━━━━━━━━━━━┩\n",
       "│<span style=\"color: #008080; text-decoration-color: #008080\">         test_acc          </span>│<span style=\"color: #800080; text-decoration-color: #800080\">    0.8380952477455139     </span>│\n",
       "│<span style=\"color: #008080; text-decoration-color: #008080\">         test_loss         </span>│<span style=\"color: #800080; text-decoration-color: #800080\">    0.42219701409339905    </span>│\n",
       "└───────────────────────────┴───────────────────────────┘\n",
       "</pre>\n"
      ],
      "text/plain": [
       "┏━━━━━━━━━━━━━━━━━━━━━━━━━━━┳━━━━━━━━━━━━━━━━━━━━━━━━━━━┓\n",
       "┃\u001b[1m \u001b[0m\u001b[1m       Test metric       \u001b[0m\u001b[1m \u001b[0m┃\u001b[1m \u001b[0m\u001b[1m      DataLoader 0       \u001b[0m\u001b[1m \u001b[0m┃\n",
       "┡━━━━━━━━━━━━━━━━━━━━━━━━━━━╇━━━━━━━━━━━━━━━━━━━━━━━━━━━┩\n",
       "│\u001b[36m \u001b[0m\u001b[36m        test_acc         \u001b[0m\u001b[36m \u001b[0m│\u001b[35m \u001b[0m\u001b[35m   0.8380952477455139    \u001b[0m\u001b[35m \u001b[0m│\n",
       "│\u001b[36m \u001b[0m\u001b[36m        test_loss        \u001b[0m\u001b[36m \u001b[0m│\u001b[35m \u001b[0m\u001b[35m   0.42219701409339905   \u001b[0m\u001b[35m \u001b[0m│\n",
       "└───────────────────────────┴───────────────────────────┘\n"
      ]
     },
     "metadata": {},
     "output_type": "display_data"
    },
    {
     "name": "stdout",
     "output_type": "stream",
     "text": [
      "Test results: [{'test_loss': 0.42219701409339905, 'test_acc': 0.8380952477455139}]\n",
      "\n",
      "Detailed Classification Report:\n",
      "               precision    recall  f1-score   support\n",
      "\n",
      "       Scales       1.00      0.22      0.36         9\n",
      "    Arpeggios       0.00      0.00      0.00         8\n",
      "    Ornaments       1.00      0.17      0.29         6\n",
      "Repeatednotes       0.00      0.00      0.00         7\n",
      "  Doublenotes       0.00      0.00      0.00         7\n",
      "       Octave       0.29      0.25      0.27         8\n",
      "     Staccato       0.00      0.00      0.00         5\n",
      "\n",
      "    micro avg       0.45      0.10      0.16        50\n",
      "    macro avg       0.33      0.09      0.13        50\n",
      " weighted avg       0.35      0.10      0.14        50\n",
      "  samples avg       0.10      0.10      0.10        50\n",
      "\n",
      "\n",
      "Average Precision Scores per Class:\n",
      "Scales: 0.3778\n",
      "Arpeggios: 0.1778\n",
      "Ornaments: 0.2778\n",
      "Repeatednotes: 0.1556\n",
      "Doublenotes: 0.1556\n",
      "Octave: 0.2048\n",
      "Staccato: 0.1111\n",
      "\n",
      "AUC Scores per Class:\n",
      "Scales: 0.6111\n",
      "Arpeggios: 0.5000\n",
      "Ornaments: 0.5833\n",
      "Repeatednotes: 0.5000\n",
      "Doublenotes: 0.5000\n",
      "Octave: 0.5574\n",
      "Staccato: 0.4875\n",
      "Average AUC: 0.5342\n"
     ]
    },
    {
     "data": {
      "image/png": "[encoded data removed]",
      "text/plain": [
       "<Figure size 1500x1200 with 7 Axes>"
      ]
     },
     "metadata": {},
     "output_type": "display_data"
    },
    {
     "name": "stdout",
     "output_type": "stream",
     "text": [
      "\n",
      "Model exported as technique_classifier_model.pt\n"
     ]
    }
   ],
   "source": [
    "# Load the best model and evaluate on test set\n",
    "best_model_path = checkpoint_callback.best_model_path\n",
    "if best_model_path:\n",
    "    print(f\"Loading best model from {best_model_path}\")\n",
    "    best_model = u.TechniqueClassifier.load_from_checkpoint(best_model_path)\n",
    "\n",
    "    # Test the model\n",
    "    print(\"Evaluating on test set...\")\n",
    "    test_results = trainer.test(best_model, test_loader)\n",
    "    print(f\"Test results: {test_results}\")\n",
    "\n",
    "    # Additional evaluation and visualization\n",
    "    def evaluate_model_detail(model, data_loader, class_labels):\n",
    "        model.eval()\n",
    "        all_preds = []\n",
    "        all_labels = []\n",
    "\n",
    "        with torch.no_grad():\n",
    "            for batch in data_loader:\n",
    "                # Assume batch is already in the right format\n",
    "                inputs, labels = batch\n",
    "                inputs = inputs.to(model.device)\n",
    "                labels = labels.to(model.device)\n",
    "\n",
    "                # Forward pass\n",
    "                logits = model(inputs)\n",
    "                probs = torch.sigmoid(logits)\n",
    "                preds = (probs > 0.5).float()\n",
    "\n",
    "                # Store predictions and labels\n",
    "                all_preds.append(preds.cpu().numpy())\n",
    "                all_labels.append(labels.cpu().numpy())\n",
    "\n",
    "        # Concatenate batches\n",
    "        all_preds = np.vstack(all_preds)\n",
    "        all_labels = np.vstack(all_labels)\n",
    "\n",
    "        # Calculate metrics\n",
    "        report = classification_report(\n",
    "            all_labels, all_preds, target_names=class_labels, zero_division=0\n",
    "        )\n",
    "\n",
    "        # Calculate average precision for each class\n",
    "        ap_scores = []\n",
    "        for i in range(len(class_labels)):\n",
    "            ap = average_precision_score(\n",
    "                all_labels[:, i], all_preds[:, i], average=None\n",
    "            )\n",
    "            ap_scores.append(ap)\n",
    "        # Calculate ROC AUC for each class\n",
    "        auc_scores = []\n",
    "        for i in range(len(class_labels)):\n",
    "            # Need to import roc_auc_score from sklearn.metrics\n",
    "            from sklearn.metrics import roc_auc_score\n",
    "\n",
    "            # Calculate AUC for this class\n",
    "            auc = roc_auc_score(all_labels[:, i], all_preds[:, i])\n",
    "            auc_scores.append(auc)\n",
    "\n",
    "        return report, ap_scores, auc_scores, all_preds, all_labels\n",
    "\n",
    "    # Run detailed evaluation\n",
    "    report, ap_scores, auc_scores, test_preds, test_labels = evaluate_model_detail(\n",
    "        best_model, test_loader, best_model.class_labels\n",
    "    )\n",
    "\n",
    "    print(\"\\nDetailed Classification Report:\")\n",
    "    print(report)\n",
    "\n",
    "    print(\"\\nAverage Precision Scores per Class:\")\n",
    "    for i, label in enumerate(best_model.class_labels):\n",
    "        print(f\"{label}: {ap_scores[i]:.4f}\")\n",
    "\n",
    "    # After printing AP scores, add:\n",
    "    print(\"\\nAUC Scores per Class:\")\n",
    "    for i, label in enumerate(best_model.class_labels):\n",
    "        print(f\"{label}: {auc_scores[i]:.4f}\")\n",
    "\n",
    "    # Optional: Print average AUC across all classes\n",
    "    print(f\"Average AUC: {np.mean(auc_scores):.4f}\")\n",
    "\n",
    "    # Visualize results\n",
    "    def plot_confusion_matrices(preds, labels, class_names):\n",
    "        num_classes = len(class_names)\n",
    "        fig, axes = plt.subplots(3, 3, figsize=(15, 12))\n",
    "        axes = axes.flatten()\n",
    "\n",
    "        # Plot confusion matrix for each class\n",
    "        for i, class_name in enumerate(class_names):\n",
    "            if i >= num_classes:\n",
    "                break\n",
    "\n",
    "            # For each class, calculate TP, FP, TN, FN\n",
    "            tp = np.sum((preds[:, i] == 1) & (labels[:, i] == 1))\n",
    "            fp = np.sum((preds[:, i] == 1) & (labels[:, i] == 0))\n",
    "            tn = np.sum((preds[:, i] == 0) & (labels[:, i] == 0))\n",
    "            fn = np.sum((preds[:, i] == 0) & (labels[:, i] == 1))\n",
    "\n",
    "            # Create a 2x2 confusion matrix\n",
    "            cm = np.array([[tn, fp], [fn, tp]])\n",
    "\n",
    "            # Plot\n",
    "            if i < len(axes):\n",
    "                ax = axes[i]\n",
    "                im = ax.imshow(cm, interpolation=\"nearest\", cmap=plt.cm.Blues)\n",
    "                ax.set_title(f\"Class: {class_name}\")\n",
    "                tick_marks = [0, 1]\n",
    "                ax.set_xticks(tick_marks)\n",
    "                ax.set_yticks(tick_marks)\n",
    "                ax.set_xticklabels([\"Negative\", \"Positive\"])\n",
    "                ax.set_yticklabels([\"Negative\", \"Positive\"])\n",
    "\n",
    "                # Label the plot\n",
    "                thresh = cm.max() / 2\n",
    "                for x in range(2):\n",
    "                    for y in range(2):\n",
    "                        ax.text(\n",
    "                            y,\n",
    "                            x,\n",
    "                            format(cm[x, y], \"d\"),\n",
    "                            horizontalalignment=\"center\",\n",
    "                            color=\"white\" if cm[x, y] > thresh else \"black\",\n",
    "                        )\n",
    "\n",
    "                ax.set_ylabel(\"True label\")\n",
    "                ax.set_xlabel(\"Predicted label\")\n",
    "\n",
    "        # Remove unused subplots\n",
    "        for i in range(num_classes, len(axes)):\n",
    "            fig.delaxes(axes[i])\n",
    "\n",
    "        plt.tight_layout()\n",
    "        plt.savefig(\"confusion_matrices.png\")\n",
    "        plt.show()\n",
    "\n",
    "    # Plot confusion matrices\n",
    "    plot_confusion_matrices(test_preds, test_labels, best_model.class_labels)\n",
    "\n",
    "    # Save and export the model\n",
    "    scripted_model = best_model.to_torchscript()\n",
    "    torch.jit.save(scripted_model, \"technique_classifier_model.pt\")\n",
    "    print(\"\\nModel exported as technique_classifier_model.pt\")\n",
    "\n",
    "\n",
    "else:\n",
    "    print(\"No checkpoint found, using the last model state\")\n",
    "    # Test using the last model state\n",
    "    test_results = trainer.test(model, test_loader)\n",
    "    print(f\"Test results: {test_results}\")"
   ]
  },
  {
   "cell_type": "code",
   "execution_count": 14,
   "metadata": {},
   "outputs": [],
   "source": [
    "# # Convert to float32\n",
    "# train_data = train_data.float()\n",
    "# test_data = test_data.float()\n",
    "# train_label = train_label.float()\n",
    "# test_label = test_label.float()"
   ]
  },
  {
   "cell_type": "code",
   "execution_count": null,
   "metadata": {},
   "outputs": [],
   "source": []
  }
 ],
 "metadata": {
  "kernelspec": {
   "display_name": "piano_judges_latent",
   "language": "python",
   "name": "python3"
  },
  "language_info": {
   "codemirror_mode": {
    "name": "ipython",
    "version": 3
   },
   "file_extension": ".py",
   "mimetype": "text/x-python",
   "name": "python",
   "nbconvert_exporter": "python",
   "pygments_lexer": "ipython3",
   "version": "3.9.21"
  }
 },
 "nbformat": 4,
 "nbformat_minor": 2
}
